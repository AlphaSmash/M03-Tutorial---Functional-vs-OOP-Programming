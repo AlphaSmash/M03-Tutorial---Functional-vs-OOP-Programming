{
 "cells": [
  {
   "cell_type": "code",
   "execution_count": 1,
   "id": "e23ae838",
   "metadata": {},
   "outputs": [],
   "source": [
    "class Solution:\n",
    "    def sort012(self,arr,n):\n",
    "        low = 0\n",
    "        mid = 0\n",
    "        high = n-1\n",
    "        \n",
    "        while mid<=high:\n",
    "            if arr[mid]==0:\n",
    "                arr[mid],arr[low] = arr[low],arr[mid]\n",
    "                mid+=1\n",
    "                low+=1\n",
    "            elif arr[mid]==1:\n",
    "                mid+=1\n",
    "            else:\n",
    "                arr[mid],arr[high] = arr[high],arr[mid]\n",
    "                high-=1"
   ]
  },
  {
   "cell_type": "code",
   "execution_count": null,
   "id": "c3fff338",
   "metadata": {},
   "outputs": [],
   "source": [
    "class Solution:\t\n",
    "    def bin_search(self, arr, left, right, key):\n",
    "        if left > right:\n",
    "            return -1\n",
    "        \n",
    "        mid = (left + right) // 2\n",
    "\n",
    "        if arr[mid] == key:\n",
    "            return mid\n",
    "\n",
    "        elif arr[mid] > key:\n",
    "            return self.bin_search (arr, left, mid - 1, key)\n",
    "\n",
    "        else:\n",
    "            return self.bin_search (arr, mid + 1, right, key)\n",
    "\n",
    "    def binarysearch(self, arr, n, k):\n",
    "        return self.bin_search(arr, 0, n-1, k)"
   ]
  }
 ],
 "metadata": {
  "kernelspec": {
   "display_name": "Python 3 (ipykernel)",
   "language": "python",
   "name": "python3"
  },
  "language_info": {
   "codemirror_mode": {
    "name": "ipython",
    "version": 3
   },
   "file_extension": ".py",
   "mimetype": "text/x-python",
   "name": "python",
   "nbconvert_exporter": "python",
   "pygments_lexer": "ipython3",
   "version": "3.11.5"
  }
 },
 "nbformat": 4,
 "nbformat_minor": 5
}
